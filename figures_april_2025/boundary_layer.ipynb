{
 "cells": [
  {
   "cell_type": "code",
   "execution_count": 3,
   "id": "73dd3820",
   "metadata": {},
   "outputs": [],
   "source": [
    "import numpy as np\n",
    "import matplotlib.pyplot as plt\n",
    "from scipy.optimize import fsolve,root_scalar,minimize\n",
    "from scipy.integrate import solve_ivp,quad"
   ]
  },
  {
   "cell_type": "code",
   "execution_count": 4,
   "id": "9bc6a597",
   "metadata": {},
   "outputs": [],
   "source": [
    "plt.rcParams.update({\n",
    "    \"text.usetex\": True,             # Use LaTeX for all text rendering\n",
    "    \"font.family\": \"serif\",          # Use a serif font like Computer Modern\n",
    "    \"font.serif\": [\"Computer Modern\"],\n",
    "    \"font.size\": 10,                 # General font size (matches LaTeX \\normalsize for 11pt)\n",
    "    \"axes.labelsize\": 10,            # Font size for axis labels\n",
    "    \"axes.titlesize\": 10,            # Font size for plot titles\n",
    "    \"legend.fontsize\": 7,            # Font size for legends\n",
    "    \"xtick.labelsize\": 7,            # Font size for x-tick labels\n",
    "    \"ytick.labelsize\": 7,            # Font size for y-tick labels\n",
    "    \"axes.linewidth\": 1,             # Line width for axes\n",
    "    \"lines.linewidth\": 1,            # Line width for plot lines\n",
    "    \"patch.linewidth\": 1,           # Line width for patches\n",
    "    \"figure.titlesize\": 10\n",
    "})"
   ]
  },
  {
   "cell_type": "code",
   "execution_count": 5,
   "id": "e4af0b47",
   "metadata": {},
   "outputs": [
    {
     "name": "stdout",
     "output_type": "stream",
     "text": [
      "39.247345458971374\n",
      "42.77960655027881\n",
      "0.005183025591188855\n",
      "2.5479430221475385\n",
      "438.46055830454776\n",
      "0.0002\n",
      "0.46025651002454365\n",
      "1.4285714285714286\n",
      "0.46025651002454365\n",
      "0.02666666666666667\n"
     ]
    },
    {
     "data": {
      "text/plain": [
       "0.46025651002454365"
      ]
     },
     "execution_count": 5,
     "metadata": {},
     "output_type": "execute_result"
    }
   ],
   "source": [
    "# scalings\n",
    "L=1e5;g=9.81; m = 80; P_peloton_hat = 200 # Watts\n",
    "rho = 1.225; A= 0.36;C_d_avg = 0.7\n",
    "v_hat_peloton = (2*P_peloton_hat/(C_d_avg*rho*A))**(1/3)\n",
    "print(v_hat_peloton*3.6) #kph\n",
    "gravity_term = m*g*v_hat_peloton/P_peloton_hat\n",
    "print(gravity_term)\n",
    "acceleration_term = m*v_hat_peloton**3/L/P_peloton_hat\n",
    "\n",
    "print(acceleration_term)\n",
    "peloton_time = L/v_hat_peloton\n",
    "print(peloton_time/3600) # hours\n",
    "energy_scale = P_peloton_hat*peloton_time\n",
    "print(energy_scale/4184)#kcal\n",
    "omega = 0.5\n",
    "lambda_ = 0.25\n",
    "N_0 = 5\n",
    "zeta_0_hat = N_0*4\n",
    "zeta_0 = zeta_0_hat/L\n",
    "print(zeta_0)\n",
    "P_lurking = (0.05 + (1-0.05)*np.exp(-lambda_*zeta_0*L/4))/0.7\n",
    "\n",
    "print(P_lurking)\n",
    "C_d_single = 1/0.7\n",
    "print(C_d_single)\n",
    "#plt.plot(np.linspace(0,1,100), theta(np.linspace(0,1,100)))\n",
    "def C_d(zeta):\n",
    "    if zeta > 0:\n",
    "        return (0.05 + (1-0.05)*np.exp(-zeta*L/4*lambda_))/0.7 # you are inside the peloton\n",
    "    elif zeta > 0.001:\n",
    "        return 1/0.7 # you have fallen behind the peloton and you are by yourself\n",
    "    else:\n",
    "        return 1/0.7 # you are ahead of the peloton\n",
    "C_d_lurking = C_d(zeta_0)\n",
    "print(C_d_lurking)\n",
    "prob_crash = 2\n",
    "P_stable = P_lurking\n",
    "N = 75\n",
    "print(prob_crash/N)\n",
    "epsilon = acceleration_term\n",
    "C_d(zeta_0)"
   ]
  },
  {
   "cell_type": "code",
   "execution_count": 6,
   "id": "44633a43",
   "metadata": {},
   "outputs": [
    {
     "name": "stderr",
     "output_type": "stream",
     "text": [
      "/opt/miniconda3/envs/basic/lib/python3.9/site-packages/scipy/integrate/_ivp/ivp.py:621: UserWarning: The following arguments have no effect for a chosen solver: `tol`.\n",
      "  solver = method(fun, t0, y0, tf, vectorized=vectorized, **options)\n"
     ]
    }
   ],
   "source": [
    "x_attack = 0.5\n",
    "P_attack = 2 \n",
    "def RHS(t,state_vec):\n",
    "    x = state_vec[0]; v = state_vec[1]\n",
    "    #print(x)\n",
    "    if x <x_attack:\n",
    "        power = C_d_lurking\n",
    "    else: \n",
    "        power = P_attack\n",
    "    \n",
    "    zeta = t - x\n",
    "\n",
    "    drag=C_d(zeta)\n",
    "\n",
    "    acc = 1/epsilon*(power/v - drag*v**2)\n",
    "    return np.array([v,acc])\n",
    "\n",
    "sol = solve_ivp(RHS,[0,1],np.array([-zeta_0, 1]),t_eval = np.linspace(0,1,10000), method='LSODA',tol=1e-15 )"
   ]
  },
  {
   "cell_type": "code",
   "execution_count": 7,
   "id": "d41a3d4c",
   "metadata": {},
   "outputs": [
    {
     "data": {
      "image/png": "[encoded data removed]",
      "text/plain": [
       "<Figure size 400x210 with 1 Axes>"
      ]
     },
     "metadata": {},
     "output_type": "display_data"
    }
   ],
   "source": [
    "plt.figure(figsize=(4,2.1),constrained_layout=True)\n",
    "#plt.plot(sol.t, sol.y[0,:])\n",
    "#plt.plot(sol.t, sol.t)\n",
    "plt.plot(sol.t, sol.y[1,:])\n",
    "plt.xlim([0.5,0.52])\n",
    "plt.ylabel('$v$')\n",
    "plt.xlabel('$t$')\n",
    "plt.savefig('acceleration.pdf')\n"
   ]
  },
  {
   "cell_type": "code",
   "execution_count": 10,
   "id": "3d77ddb5",
   "metadata": {},
   "outputs": [
    {
     "data": {
      "text/plain": [
       "[<matplotlib.lines.Line2D at 0x156497430>]"
      ]
     },
     "execution_count": 10,
     "metadata": {},
     "output_type": "execute_result"
    },
    {
     "data": {
      "image/png": "[encoded data removed]",
      "text/plain": [
       "<Figure size 640x480 with 1 Axes>"
      ]
     },
     "metadata": {},
     "output_type": "display_data"
    }
   ],
   "source": [
    "v_max_interior = (P_attack/C_d(0))**(1/3)\n",
    "v_interior = np.linspace(1,v_max_interior-1E-7, 1000 )\n",
    "def implicit(v, v_max):\n",
    "    term1 = np.log((v**2+v*v_max+v_max**2)/(v_max-v)**2)-2*np.sqrt(3)*np.arctan((2*v+v_max)/np.sqrt(3)/v_max)\n",
    "    return term1\n",
    "tau = implicit(v_interior, v_max_interior)/v_max_interior/6/C_d(0)\n",
    "plt.plot(tau, v_interior)\n"
   ]
  },
  {
   "cell_type": "code",
   "execution_count": null,
   "id": "2b2817ab",
   "metadata": {},
   "outputs": [],
   "source": []
  }
 ],
 "metadata": {
  "kernelspec": {
   "display_name": "basic",
   "language": "python",
   "name": "python3"
  },
  "language_info": {
   "codemirror_mode": {
    "name": "ipython",
    "version": 3
   },
   "file_extension": ".py",
   "mimetype": "text/x-python",
   "name": "python",
   "nbconvert_exporter": "python",
   "pygments_lexer": "ipython3",
   "version": "3.9.19"
  }
 },
 "nbformat": 4,
 "nbformat_minor": 5
}
